{
 "cells": [
  {
   "cell_type": "code",
   "execution_count": 1,
   "id": "d009d7b3",
   "metadata": {},
   "outputs": [
    {
     "name": "stdout",
     "output_type": "stream",
     "text": [
      "Concatenated string: Hello Amma\n"
     ]
    }
   ],
   "source": [
    "str1 = \"Hello\"\n",
    "str2 = \"Amma\"\n",
    "concatenated_string = str1 + \" \" + str2\n",
    "print(\"Concatenated string:\", concatenated_string)"
   ]
  },
  {
   "cell_type": "code",
   "execution_count": 3,
   "id": "5e2c3c26",
   "metadata": {},
   "outputs": [
    {
     "name": "stdout",
     "output_type": "stream",
     "text": [
      "Formatted string (using % operator): Name: Sujatha, Age: 42\n"
     ]
    }
   ],
   "source": [
    "# Using the % operator\n",
    "name = \"Sujatha\"\n",
    "age = 42\n",
    "formatted_string = \"Name: %s, Age: %d\" % (name, age)\n",
    "print(\"Formatted string (using % operator):\", formatted_string)"
   ]
  },
  {
   "cell_type": "code",
   "execution_count": 4,
   "id": "cd824884",
   "metadata": {},
   "outputs": [
    {
     "name": "stdout",
     "output_type": "stream",
     "text": [
      "Formatted string (using format() method): Name: Sujatha, Age: 42\n",
      "Formatted string (using f-strings): Name: Sujatha, Age: 42\n",
      "Formatted string (using template strings): Name: Sujatha, Age: 42\n"
     ]
    }
   ],
   "source": [
    "# Using the format() method\n",
    "formatted_string = \"Name: {}, Age: {}\".format(name, age)\n",
    "print(\"Formatted string (using format() method):\", formatted_string)\n",
    "\n",
    "# Using f-strings (formatted string literals)\n",
    "formatted_string = f\"Name: {name}, Age: {age}\"\n",
    "print(\"Formatted string (using f-strings):\", formatted_string)\n",
    "\n",
    "# Using template strings\n",
    "from string import Template\n",
    "template = Template(\"Name: $name, Age: $age\")\n",
    "formatted_string = template.substitute(name=name, age=age)\n",
    "print(\"Formatted string (using template strings):\", formatted_string)"
   ]
  },
  {
   "cell_type": "code",
   "execution_count": 5,
   "id": "eff2ad3f",
   "metadata": {},
   "outputs": [
    {
     "name": "stdout",
     "output_type": "stream",
     "text": [
      "Addition result: 10\n"
     ]
    }
   ],
   "source": [
    "# Addition\n",
    "result_add = 2 + 8\n",
    "print(\"Addition result:\", result_add)"
   ]
  },
  {
   "cell_type": "code",
   "execution_count": 8,
   "id": "2758a533",
   "metadata": {},
   "outputs": [
    {
     "name": "stdout",
     "output_type": "stream",
     "text": [
      "Subtraction result: 8\n",
      "Multiplication result: 4\n",
      "Division result: 6.0\n",
      "Exponentiation result: 16\n",
      "Modulus result: 0\n",
      "After subtraction assignment: 40\n",
      "After multiplication assignment: 50\n",
      "After division assignment: 4.0\n"
     ]
    }
   ],
   "source": [
    "# Subtraction\n",
    "result_sub = 10 - 2\n",
    "print(\"Subtraction result:\", result_sub)\n",
    "\n",
    "# Multiplication\n",
    "result_mul = 2 * 2\n",
    "print(\"Multiplication result:\", result_mul)\n",
    "\n",
    "# Division\n",
    "result_div = 24 / 4\n",
    "print(\"Division result:\", result_div)\n",
    "\n",
    "# Exponentiation\n",
    "result_exp = 4 ** 2\n",
    "print(\"Exponentiation result:\", result_exp)\n",
    "\n",
    "# Modulus\n",
    "result_mod = 15 % 3\n",
    "print(\"Modulus result:\", result_mod)\n",
    "# Example for -= (Subtraction assignment)\n",
    "a = 42\n",
    "a -= 2  # Equivalent to a = a - 2\n",
    "print(\"After subtraction assignment:\", a)\n",
    "\n",
    "# Example for *= (Multiplication assignment)\n",
    "b = 10\n",
    "b *= 5  # Equivalent to b = b * 5\n",
    "print(\"After multiplication assignment:\", b)\n",
    "\n",
    "# Example for /= (Division assignment)\n",
    "c = 16\n",
    "c /= 4  # Equivalent to c = c / 4\n",
    "print(\"After division assignment:\", c)"
   ]
  },
  {
   "cell_type": "code",
   "execution_count": null,
   "id": "0f5eacf8",
   "metadata": {},
   "outputs": [],
   "source": []
  }
 ],
 "metadata": {
  "kernelspec": {
   "display_name": "Python 3 (ipykernel)",
   "language": "python",
   "name": "python3"
  },
  "language_info": {
   "codemirror_mode": {
    "name": "ipython",
    "version": 3
   },
   "file_extension": ".py",
   "mimetype": "text/x-python",
   "name": "python",
   "nbconvert_exporter": "python",
   "pygments_lexer": "ipython3",
   "version": "3.9.13"
  }
 },
 "nbformat": 4,
 "nbformat_minor": 5
}
